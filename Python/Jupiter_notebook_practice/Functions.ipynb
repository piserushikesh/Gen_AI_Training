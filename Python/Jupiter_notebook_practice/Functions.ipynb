{
 "cells": [
  {
   "cell_type": "markdown",
   "id": "eeeeac85",
   "metadata": {},
   "source": [
    "Function Interaction"
   ]
  },
  {
   "cell_type": "code",
   "execution_count": 1,
   "id": "a901ccc1",
   "metadata": {},
   "outputs": [],
   "source": [
    "def check_guess(mylist,guess):\n",
    "    if mylist[guess] == '0':\n",
    "        print(\"Correct\")\n",
    "    else:\n",
    "        print(\"Wrong guess!\")\n",
    "        print(mylist)"
   ]
  },
  {
   "cell_type": "markdown",
   "id": "082f5c94",
   "metadata": {},
   "source": [
    "*args and **kwargs"
   ]
  },
  {
   "cell_type": "code",
   "execution_count": 16,
   "id": "4ac605fd",
   "metadata": {},
   "outputs": [
    {
     "ename": "IndentationError",
     "evalue": "expected an indented block after function definition on line 1 (697476629.py, line 3)",
     "output_type": "error",
     "traceback": [
      "\u001b[1;36m  Cell \u001b[1;32mIn[16], line 3\u001b[1;36m\u001b[0m\n\u001b[1;33m    def myfunc(*args):\u001b[0m\n\u001b[1;37m    ^\u001b[0m\n\u001b[1;31mIndentationError\u001b[0m\u001b[1;31m:\u001b[0m expected an indented block after function definition on line 1\n"
     ]
    }
   ],
   "source": [
    "def myfunc(a,b,c=0,d=0,e=0) : \n",
    "#replace by\n",
    "def myfunc(*args):  "
   ]
  },
  {
   "cell_type": "code",
   "execution_count": 14,
   "id": "b30583dc",
   "metadata": {},
   "outputs": [],
   "source": [
    "def myfunc(**kwargs):  \n",
    "    print(kwargs)\n",
    "    if 'fruit' in kwargs:\n",
    "        print('My fruit of choices is {}'.format(kwargs['fruit']))\n",
    "    else:\n",
    "              print('I did not find any fruit here')"
   ]
  },
  {
   "cell_type": "code",
   "execution_count": 15,
   "id": "85d5c18f",
   "metadata": {},
   "outputs": [
    {
     "name": "stdout",
     "output_type": "stream",
     "text": [
      "{'fruit': 'Apple', 'veggie': 'lettuce'}\n",
      "My fruit of choices is Apple\n"
     ]
    }
   ],
   "source": [
    "myfunc(fruit='Apple',veggie='lettuce')"
   ]
  },
  {
   "cell_type": "code",
   "execution_count": 17,
   "id": "d98bf399",
   "metadata": {},
   "outputs": [],
   "source": [
    "# kwargs return dictionary\n",
    "# args return tupal"
   ]
  },
  {
   "cell_type": "code",
   "execution_count": 18,
   "id": "ef15c02e",
   "metadata": {},
   "outputs": [],
   "source": [
    "def myfunc(*args,**kwargs):\n",
    "    print(args)\n",
    "    print(kwargs)\n",
    "    print('I would like {} and {}'.format(args[0],kwargs['food']))"
   ]
  },
  {
   "cell_type": "code",
   "execution_count": 19,
   "id": "bbb50e75",
   "metadata": {},
   "outputs": [
    {
     "name": "stdout",
     "output_type": "stream",
     "text": [
      "(10, 20)\n",
      "{'food': 'Chiken', 'snacks': 'burger'}\n",
      "I would like 10 and Chiken\n"
     ]
    }
   ],
   "source": [
    "myfunc(10,20,food='Chiken',snacks='burger')"
   ]
  },
  {
   "cell_type": "markdown",
   "id": "e4b5d3f3",
   "metadata": {},
   "source": [
    "Exercise"
   ]
  },
  {
   "cell_type": "code",
   "execution_count": 20,
   "id": "3a80040f",
   "metadata": {},
   "outputs": [],
   "source": [
    "# Question Animal Crackers"
   ]
  },
  {
   "cell_type": "code",
   "execution_count": 26,
   "id": "4bfb6b07",
   "metadata": {},
   "outputs": [],
   "source": [
    "def animal_crackers(text):\n",
    "    word_list = text.split()\n",
    "    print(word_list)\n",
    "    first = word_list[0]\n",
    "    second= word_list[1]\n",
    "    return first[0] == second[0]"
   ]
  },
  {
   "cell_type": "code",
   "execution_count": 24,
   "id": "fa195e15",
   "metadata": {},
   "outputs": [
    {
     "name": "stdout",
     "output_type": "stream",
     "text": [
      "['Rushikesh', 'Pise']\n"
     ]
    },
    {
     "data": {
      "text/plain": [
       "False"
      ]
     },
     "execution_count": 24,
     "metadata": {},
     "output_type": "execute_result"
    }
   ],
   "source": [
    "animal_crackers('Rushikesh Pise')"
   ]
  },
  {
   "cell_type": "code",
   "execution_count": 27,
   "id": "0cade292",
   "metadata": {},
   "outputs": [
    {
     "name": "stdout",
     "output_type": "stream",
     "text": [
      "['Rakesh', 'Roshan']\n"
     ]
    },
    {
     "data": {
      "text/plain": [
       "True"
      ]
     },
     "execution_count": 27,
     "metadata": {},
     "output_type": "execute_result"
    }
   ],
   "source": [
    "animal_crackers(\"Rakesh Roshan\")"
   ]
  },
  {
   "cell_type": "code",
   "execution_count": 29,
   "id": "594eb376",
   "metadata": {},
   "outputs": [],
   "source": [
    "def has_33(nums):\n",
    "    for i in range(0,len(nums)-1):\n",
    "        if nums[i] == 3 and nums[i+1] == 3:\n",
    "            return True\n",
    "    return False"
   ]
  },
  {
   "cell_type": "code",
   "execution_count": 30,
   "id": "1b89639a",
   "metadata": {},
   "outputs": [
    {
     "data": {
      "text/plain": [
       "False"
      ]
     },
     "execution_count": 30,
     "metadata": {},
     "output_type": "execute_result"
    }
   ],
   "source": [
    "has_33([1,3,1,3])"
   ]
  },
  {
   "cell_type": "code",
   "execution_count": 31,
   "id": "8e545dee",
   "metadata": {},
   "outputs": [
    {
     "data": {
      "text/plain": [
       "True"
      ]
     },
     "execution_count": 31,
     "metadata": {},
     "output_type": "execute_result"
    }
   ],
   "source": [
    "has_33([1,3,1,3,3])"
   ]
  },
  {
   "cell_type": "markdown",
   "id": "1468e236",
   "metadata": {},
   "source": [
    "Paper Doll"
   ]
  },
  {
   "cell_type": "code",
   "execution_count": 32,
   "id": "522ae3a2",
   "metadata": {},
   "outputs": [],
   "source": [
    "def paper_doll(text):\n",
    "    result =''\n",
    "    for char in text:\n",
    "        result+=char+char+char\n",
    "    return result"
   ]
  },
  {
   "cell_type": "code",
   "execution_count": 33,
   "id": "991aa67c",
   "metadata": {},
   "outputs": [
    {
     "data": {
      "text/plain": [
       "'HHHeeellllllooo'"
      ]
     },
     "execution_count": 33,
     "metadata": {},
     "output_type": "execute_result"
    }
   ],
   "source": [
    "paper_doll('Hello')"
   ]
  },
  {
   "cell_type": "markdown",
   "id": "fcda7ca7",
   "metadata": {},
   "source": [
    "Summer_69 problem"
   ]
  },
  {
   "cell_type": "code",
   "execution_count": 43,
   "id": "6a6c54ca",
   "metadata": {},
   "outputs": [],
   "source": [
    "def summer_69(arr):\n",
    "    total =0\n",
    "    add = True\n",
    "    \n",
    "    for num in arr:\n",
    "        while add:\n",
    "            if num != 6:\n",
    "                total+= num\n",
    "                break\n",
    "            else:\n",
    "                add= False\n",
    "        while not add:\n",
    "            if num!= 9:\n",
    "                break\n",
    "            else:\n",
    "                add = True\n",
    "                break\n",
    "    return total\n",
    "            "
   ]
  },
  {
   "cell_type": "code",
   "execution_count": 44,
   "id": "1ff18f5b",
   "metadata": {},
   "outputs": [
    {
     "data": {
      "text/plain": [
       "9"
      ]
     },
     "execution_count": 44,
     "metadata": {},
     "output_type": "execute_result"
    }
   ],
   "source": [
    "summer_69([1,3,5])"
   ]
  },
  {
   "cell_type": "code",
   "execution_count": 45,
   "id": "55486dc6",
   "metadata": {},
   "outputs": [
    {
     "data": {
      "text/plain": [
       "9"
      ]
     },
     "execution_count": 45,
     "metadata": {},
     "output_type": "execute_result"
    }
   ],
   "source": [
    "summer_69([4,5,6,7,8,9])"
   ]
  },
  {
   "cell_type": "code",
   "execution_count": 46,
   "id": "ffa462d7",
   "metadata": {},
   "outputs": [
    {
     "data": {
      "text/plain": [
       "14"
      ]
     },
     "execution_count": 46,
     "metadata": {},
     "output_type": "execute_result"
    }
   ],
   "source": [
    "summer_69([2,1,6,9,11])"
   ]
  },
  {
   "cell_type": "code",
   "execution_count": 47,
   "id": "e529a2d5",
   "metadata": {},
   "outputs": [],
   "source": [
    "def rahul_code(arr):\n",
    "    f_list = []\n",
    "    for i in len(arr):\n",
    "        for j in len(arr):\n",
    "            if arr[i]==6:\n",
    "                f_list.append(arr[i])\n",
    "                break\n",
    "            if arr[i]==9:\n",
    "                f_list.append(arr[i])\n",
    "                break\n",
    "    "
   ]
  },
  {
   "cell_type": "markdown",
   "id": "c40fd2ce",
   "metadata": {},
   "source": [
    "spy_game"
   ]
  },
  {
   "cell_type": "code",
   "execution_count": 63,
   "id": "86b3f103",
   "metadata": {},
   "outputs": [],
   "source": [
    "def spy_game(nums):\n",
    "    \n",
    "   code = [0,0,7,'x'] \n",
    "   for num in nums:\n",
    "    if num == code[0]:\n",
    "        code.pop(0)\n",
    "   \n",
    "   return len(code) == 1\n",
    "    "
   ]
  },
  {
   "cell_type": "code",
   "execution_count": 64,
   "id": "70f243b9",
   "metadata": {},
   "outputs": [
    {
     "data": {
      "text/plain": [
       "False"
      ]
     },
     "execution_count": 64,
     "metadata": {},
     "output_type": "execute_result"
    }
   ],
   "source": [
    "spy_game([1,7,2,0,4,5,0])"
   ]
  },
  {
   "cell_type": "code",
   "execution_count": 65,
   "id": "e34ac81b",
   "metadata": {},
   "outputs": [
    {
     "data": {
      "text/plain": [
       "True"
      ]
     },
     "execution_count": 65,
     "metadata": {},
     "output_type": "execute_result"
    }
   ],
   "source": [
    "spy_game([1,0,2,4,0,5,7])"
   ]
  },
  {
   "cell_type": "code",
   "execution_count": null,
   "id": "108dd828",
   "metadata": {},
   "outputs": [],
   "source": []
  }
 ],
 "metadata": {
  "kernelspec": {
   "display_name": "Python 3 (ipykernel)",
   "language": "python",
   "name": "python3"
  },
  "language_info": {
   "codemirror_mode": {
    "name": "ipython",
    "version": 3
   },
   "file_extension": ".py",
   "mimetype": "text/x-python",
   "name": "python",
   "nbconvert_exporter": "python",
   "pygments_lexer": "ipython3",
   "version": "3.11.5"
  }
 },
 "nbformat": 4,
 "nbformat_minor": 5
}
