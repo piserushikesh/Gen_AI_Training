{
  "nbformat": 4,
  "nbformat_minor": 0,
  "metadata": {
    "colab": {
      "provenance": [],
      "authorship_tag": "ABX9TyOrO2s2s6VzWIshoNdtxFbP",
      "include_colab_link": true
    },
    "kernelspec": {
      "name": "python3",
      "display_name": "Python 3"
    },
    "language_info": {
      "name": "python"
    }
  },
  "cells": [
    {
      "cell_type": "markdown",
      "metadata": {
        "id": "view-in-github",
        "colab_type": "text"
      },
      "source": [
        "<a href=\"https://colab.research.google.com/github/piserushikesh/Gen_AI_Training/blob/main/Pandas.ipynb\" target=\"_parent\"><img src=\"https://colab.research.google.com/assets/colab-badge.svg\" alt=\"Open In Colab\"/></a>"
      ]
    },
    {
      "cell_type": "markdown",
      "source": [
        "Series"
      ],
      "metadata": {
        "id": "aVXunKr74ESP"
      }
    },
    {
      "cell_type": "code",
      "execution_count": 1,
      "metadata": {
        "colab": {
          "base_uri": "https://localhost:8080/"
        },
        "id": "7Z77m8x3tO84",
        "outputId": "fda283e1-f973-4840-f6b8-b0a8dbe35796"
      },
      "outputs": [
        {
          "output_type": "stream",
          "name": "stdout",
          "text": [
            "0    3\n",
            "1    4\n",
            "2    5\n",
            "3    6\n",
            "4    7\n",
            "5    8\n",
            "dtype: int64\n",
            "<class 'pandas.core.series.Series'>\n"
          ]
        }
      ],
      "source": [
        "import pandas as pd\n",
        "\n",
        "x = [3,4,5,6,7,8]\n",
        "\n",
        "var = pd.Series(x)\n",
        "print(var)\n",
        "print(type(var))"
      ]
    },
    {
      "cell_type": "markdown",
      "source": [
        "Index changing"
      ],
      "metadata": {
        "id": "9eZrjJOAv4w2"
      }
    },
    {
      "cell_type": "code",
      "source": [
        "x = [3,4,5]\n",
        "\n",
        "var = pd.Series(x,index=['a','b','c'],dtype='float',name='python')\n",
        "print(var)"
      ],
      "metadata": {
        "id": "t11nDlxhv-7j",
        "outputId": "ca65aeab-60d4-4b28-e959-914017080ec9",
        "colab": {
          "base_uri": "https://localhost:8080/"
        }
      },
      "execution_count": 3,
      "outputs": [
        {
          "output_type": "stream",
          "name": "stdout",
          "text": [
            "a    3.0\n",
            "b    4.0\n",
            "c    5.0\n",
            "Name: python, dtype: float64\n"
          ]
        }
      ]
    },
    {
      "cell_type": "code",
      "source": [
        "dc = {\"name\":['python','java','c++'],\"por\":[12,13,14],\"rank\":[1,2,3,4]}\n",
        "\n",
        "var1 = pd.Series(dc)\n",
        "print(var1)\n",
        "print(type(var1))"
      ],
      "metadata": {
        "id": "FpxmC_SX1V0T",
        "outputId": "2b68be94-6d96-41f1-ee59-5ac0529a8b6f",
        "colab": {
          "base_uri": "https://localhost:8080/"
        }
      },
      "execution_count": 6,
      "outputs": [
        {
          "output_type": "stream",
          "name": "stdout",
          "text": [
            "name    [python, java, c++]\n",
            "por            [12, 13, 14]\n",
            "rank           [1, 2, 3, 4]\n",
            "dtype: object\n",
            "<class 'pandas.core.series.Series'>\n"
          ]
        }
      ]
    },
    {
      "cell_type": "code",
      "source": [
        "s1 = pd.Series(12,index=[1,2,3,4,5,6,7,8])\n",
        "s2 = pd.Series(12,index=[1,2,3,4])\n",
        "\n",
        "print(s1+s2)"
      ],
      "metadata": {
        "id": "taOxdo9I3YFf",
        "outputId": "39770923-57f5-4044-ffcd-f7947a16cc94",
        "colab": {
          "base_uri": "https://localhost:8080/"
        }
      },
      "execution_count": 7,
      "outputs": [
        {
          "output_type": "stream",
          "name": "stdout",
          "text": [
            "1    24.0\n",
            "2    24.0\n",
            "3    24.0\n",
            "4    24.0\n",
            "5     NaN\n",
            "6     NaN\n",
            "7     NaN\n",
            "8     NaN\n",
            "dtype: float64\n"
          ]
        }
      ]
    },
    {
      "cell_type": "markdown",
      "source": [
        "Dataframe"
      ],
      "metadata": {
        "id": "j0iQW0VM3_tR"
      }
    },
    {
      "cell_type": "code",
      "source": [
        "l = [1,2,3,4,5]\n",
        "\n",
        "var2 = pd.DataFrame(l)\n",
        "print(var2)\n",
        "print(type(var2))"
      ],
      "metadata": {
        "id": "oPhUIYJA4CFh",
        "outputId": "ebc0c7e7-2759-4243-a995-b398e363d252",
        "colab": {
          "base_uri": "https://localhost:8080/"
        }
      },
      "execution_count": 9,
      "outputs": [
        {
          "output_type": "stream",
          "name": "stdout",
          "text": [
            "   0\n",
            "0  1\n",
            "1  2\n",
            "2  3\n",
            "3  4\n",
            "4  5\n",
            "<class 'pandas.core.frame.DataFrame'>\n"
          ]
        }
      ]
    },
    {
      "cell_type": "code",
      "source": [
        "d = {\"a\":[1,2,3,4,5],\"s\":[1,2,3,4,5]}\n",
        "\n",
        "var1 = pd.DataFrame(d)\n",
        "print(var1)"
      ],
      "metadata": {
        "id": "Ani1qPlP5R3q",
        "outputId": "9e516ce0-9353-400e-a373-0d537f133b08",
        "colab": {
          "base_uri": "https://localhost:8080/"
        }
      },
      "execution_count": 10,
      "outputs": [
        {
          "output_type": "stream",
          "name": "stdout",
          "text": [
            "   a  s\n",
            "0  1  1\n",
            "1  2  2\n",
            "2  3  3\n",
            "3  4  4\n",
            "4  5  5\n"
          ]
        }
      ]
    },
    {
      "cell_type": "markdown",
      "source": [
        "for showing perticular column"
      ],
      "metadata": {
        "id": "LRwYHMe654H-"
      }
    },
    {
      "cell_type": "code",
      "source": [
        "d = {\"a\":[1,2,3,4,5],\"s\":[1,2,3,4,5]}\n",
        "\n",
        "var1 = pd.DataFrame(d,columns=[\"a\"])\n",
        "print(var1)"
      ],
      "metadata": {
        "id": "aQ5YZLvy5veO",
        "outputId": "1f7b550c-2149-4a59-c371-b04448cba67a",
        "colab": {
          "base_uri": "https://localhost:8080/"
        }
      },
      "execution_count": 11,
      "outputs": [
        {
          "output_type": "stream",
          "name": "stdout",
          "text": [
            "   a\n",
            "0  1\n",
            "1  2\n",
            "2  3\n",
            "3  4\n",
            "4  5\n"
          ]
        }
      ]
    },
    {
      "cell_type": "code",
      "source": [
        "print(var1[\"a\"][3])"
      ],
      "metadata": {
        "id": "A38eIx0L6VIV",
        "outputId": "2e0f7017-ffbe-434d-e7b1-9b69710caac1",
        "colab": {
          "base_uri": "https://localhost:8080/"
        }
      },
      "execution_count": 12,
      "outputs": [
        {
          "output_type": "stream",
          "name": "stdout",
          "text": [
            "4\n"
          ]
        }
      ]
    }
  ]
}