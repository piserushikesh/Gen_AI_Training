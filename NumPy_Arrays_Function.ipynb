{
  "nbformat": 4,
  "nbformat_minor": 0,
  "metadata": {
    "colab": {
      "provenance": [],
      "authorship_tag": "ABX9TyO3aWBwLKM9Yg04Q6/y9bEs",
      "include_colab_link": true
    },
    "kernelspec": {
      "name": "python3",
      "display_name": "Python 3"
    },
    "language_info": {
      "name": "python"
    }
  },
  "cells": [
    {
      "cell_type": "markdown",
      "metadata": {
        "id": "view-in-github",
        "colab_type": "text"
      },
      "source": [
        "<a href=\"https://colab.research.google.com/github/piserushikesh/Gen_AI_Training/blob/main/NumPy_Arrays_Function.ipynb\" target=\"_parent\"><img src=\"https://colab.research.google.com/assets/colab-badge.svg\" alt=\"Open In Colab\"/></a>"
      ]
    },
    {
      "cell_type": "markdown",
      "source": [
        "Search"
      ],
      "metadata": {
        "id": "dqeIEyX3qsE8"
      }
    },
    {
      "cell_type": "code",
      "source": [
        "import numpy as np\n",
        "\n",
        "var = np.array([1,2,3,4,5,2,6,7,8,3,2,9])\n",
        "\n",
        "x = np.where( var == 2)\n",
        "\n",
        "print(x)"
      ],
      "metadata": {
        "colab": {
          "base_uri": "https://localhost:8080/"
        },
        "id": "YF4y-GOmqu6P",
        "outputId": "3996eb21-cb34-4e2a-8474-834a46f8eedf"
      },
      "execution_count": 2,
      "outputs": [
        {
          "output_type": "stream",
          "name": "stdout",
          "text": [
            "(array([ 1,  5, 10]),)\n"
          ]
        }
      ]
    },
    {
      "cell_type": "code",
      "source": [
        "var1 = np.array([1,2,3,4,5,8,9])\n",
        "\n",
        "x1 = np.searchsorted( var1,6)\n",
        "\n",
        "print(x1)"
      ],
      "metadata": {
        "colab": {
          "base_uri": "https://localhost:8080/"
        },
        "id": "ENZG1N1Nrjqr",
        "outputId": "9a961d57-0b65-4195-80ac-8bdf6a17bfb9"
      },
      "execution_count": 3,
      "outputs": [
        {
          "output_type": "stream",
          "name": "stdout",
          "text": [
            "5\n"
          ]
        }
      ]
    },
    {
      "cell_type": "code",
      "source": [
        "var2 = np.array([23,43,2,45,76,12])\n",
        "\n",
        "x2 = np.sort(var2)\n",
        "\n",
        "print(x2)"
      ],
      "metadata": {
        "colab": {
          "base_uri": "https://localhost:8080/"
        },
        "id": "-A-3zgH_sFMd",
        "outputId": "351ad1b6-7123-4bbd-e086-2daa12b4e8d0"
      },
      "execution_count": 4,
      "outputs": [
        {
          "output_type": "stream",
          "name": "stdout",
          "text": [
            "[ 2 12 23 43 45 76]\n"
          ]
        }
      ]
    },
    {
      "cell_type": "code",
      "source": [
        "var3 = np.array([23,43,2,45,76,12])\n",
        "\n",
        "x3 = np.random.shuffle(var3)\n",
        "\n",
        "print(var3)"
      ],
      "metadata": {
        "colab": {
          "base_uri": "https://localhost:8080/"
        },
        "id": "foC99mWHubNU",
        "outputId": "087cea44-9daa-4f13-f7db-afc757dfaef7"
      },
      "execution_count": 8,
      "outputs": [
        {
          "output_type": "stream",
          "name": "stdout",
          "text": [
            "[23 76  2 43 12 45]\n"
          ]
        }
      ]
    },
    {
      "cell_type": "code",
      "source": [
        "var9 = np.array([[1,2,3],[1,2,3]])\n",
        "\n",
        "v1 = np.insert(var9,2,[22,23,24], axis = 0)\n",
        "\n",
        "print(v1)"
      ],
      "metadata": {
        "colab": {
          "base_uri": "https://localhost:8080/"
        },
        "id": "Nom3xKOWxahq",
        "outputId": "feab57ac-6c3d-42c1-bf0c-64ba4f711441"
      },
      "execution_count": 11,
      "outputs": [
        {
          "output_type": "stream",
          "name": "stdout",
          "text": [
            "[[ 1  2  3]\n",
            " [ 1  2  3]\n",
            " [22 23 24]]\n"
          ]
        }
      ]
    },
    {
      "cell_type": "code",
      "source": [
        "v2 = np.delete(v1,0)\n",
        "\n",
        "print(v2)"
      ],
      "metadata": {
        "colab": {
          "base_uri": "https://localhost:8080/"
        },
        "id": "_zpsp5Qly_GU",
        "outputId": "16b6b731-f506-4bda-9f5a-64afe21420b1"
      },
      "execution_count": 14,
      "outputs": [
        {
          "output_type": "stream",
          "name": "stdout",
          "text": [
            "[ 2  3  1  2  3 22 23 24]\n"
          ]
        }
      ]
    }
  ]
}