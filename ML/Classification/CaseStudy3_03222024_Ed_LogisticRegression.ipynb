{
 "cells": [
  {
   "cell_type": "markdown",
   "metadata": {},
   "source": [
    "This code performs a binary classification task to predict whether a startup will be profitable or not based on features such as \"R&D Spend,\" \"Administration,\" and \"Marketing Spend.\""
   ]
  },
  {
   "cell_type": "markdown",
   "metadata": {},
   "source": [
    "**Importing Libraries**<br>\n",
    "- Imports necessary libraries such as pandas for data manipulation, matplotlib.pyplot for plotting graphs, seaborn for statistical visualization, and various modules from scikit-learn for machine learning tasks."
   ]
  },
  {
   "cell_type": "code",
   "execution_count": null,
   "metadata": {},
   "outputs": [],
   "source": [
    "import pandas as pd\n",
    "import matplotlib.pyplot as plt\n",
    "import seaborn as sns\n",
    "from sklearn.model_selection import train_test_split\n",
    "from sklearn.preprocessing import OneHotEncoder, StandardScaler\n",
    "from sklearn.compose import ColumnTransformer\n",
    "from sklearn.pipeline import Pipeline\n",
    "from sklearn.linear_model import LogisticRegression\n",
    "from sklearn.metrics import accuracy_score, confusion_matrix, roc_curve, roc_auc_score"
   ]
  },
  {
   "cell_type": "markdown",
   "metadata": {},
   "source": [
    "**Loading the Dataset**<br>\n",
    "- Loads the dataset \"50_Startups.csv\" into a pandas DataFrame called data."
   ]
  },
  {
   "cell_type": "code",
   "execution_count": null,
   "metadata": {},
   "outputs": [],
   "source": [
    "# Load the dataset\n",
    "data = pd.read_csv(\"../Datasets/50_Startups.csv\")"
   ]
  },
  {
   "cell_type": "markdown",
   "metadata": {},
   "source": [
    "**Data Preprocessing**<br>\n",
    "- Separates the features (X) from the target variable (y) in the dataset.\n",
    "- Binarizes the target variable (y) based on a threshold (mean value) to convert it into a binary classification problem.\n",
    "- Defines numerical and categorical features.\n",
    "- Sets up preprocessing steps for numerical features (scaling) and categorical features (one-hot encoding) using pipelines and column transformers."
   ]
  },
  {
   "cell_type": "code",
   "execution_count": null,
   "metadata": {},
   "outputs": [],
   "source": [
    "# Separate features and target variable\n",
    "X = data.drop(columns=[\"Profit\"])\n",
    "y = data[\"Profit\"]\n",
    "\n",
    "# Binarize the target variable\n",
    "threshold = y.mean()  # Use mean as threshold for binary classification\n",
    "y_binary = (y > threshold).astype(int)\n",
    "\n",
    "# Define numerical and categorical features\n",
    "numeric_features = [\"R&D Spend\", \"Administration\", \"Marketing Spend\"]\n",
    "categorical_features = [\"State\"]\n",
    "\n",
    "# Define preprocessing steps for numerical and categorical features\n",
    "numeric_transformer = Pipeline(steps=[\n",
    "    ('scaler', StandardScaler())\n",
    "])\n",
    "\n",
    "categorical_transformer = Pipeline(steps=[\n",
    "    ('onehot', OneHotEncoder())\n",
    "])\n",
    "\n",
    "preprocessor = ColumnTransformer(\n",
    "    transformers=[\n",
    "        ('num', numeric_transformer, numeric_features),\n",
    "        ('cat', categorical_transformer, categorical_features)\n",
    "    ])"
   ]
  },
  {
   "cell_type": "markdown",
   "metadata": {},
   "source": [
    "**Model Definition and Training**<br>\n",
    "- Defines a logistic regression model using pipelines to streamline preprocessing and model fitting.\n",
    "- Splits the dataset into training and testing sets using train_test_split.\n",
    "- Fits the logistic regression model to the training data (X_train and y_train)."
   ]
  },
  {
   "cell_type": "code",
   "execution_count": null,
   "metadata": {},
   "outputs": [],
   "source": [
    "# Define the logistic regression model\n",
    "model = Pipeline(steps=[('preprocessor', preprocessor),\n",
    "                        ('classifier', LogisticRegression())])\n",
    "\n",
    "# Split the dataset into training and testing sets\n",
    "X_train, X_test, y_train, y_test = train_test_split(X, y_binary, test_size=0.2, random_state=42)\n",
    "\n",
    "# Fit the model\n",
    "model.fit(X_train, y_train)"
   ]
  },
  {
   "cell_type": "markdown",
   "metadata": {},
   "source": [
    "**Model Evaluation**<br>\n",
    "- Makes predictions on the test data (X_test).\n",
    "- Calculates the accuracy score of the model using accuracy_score.\n",
    "- Calculates the confusion matrix to evaluate the model's performance further."
   ]
  },
  {
   "cell_type": "code",
   "execution_count": null,
   "metadata": {},
   "outputs": [],
   "source": [
    "# Make predictions\n",
    "y_pred = model.predict(X_test)\n",
    "\n",
    "# Calculate accuracy (not meaningful for regression, just for demonstration)\n",
    "accuracy = accuracy_score(y_test, y_pred)\n",
    "print(\"Accuracy:\", accuracy)\n",
    "\n",
    "# Calculate confusion matrix\n",
    "cm = confusion_matrix(y_test, y_pred)"
   ]
  },
  {
   "cell_type": "markdown",
   "metadata": {},
   "source": [
    "**Visualization**<br>\n",
    "- Plots a scatter plot to visualize the binary classification predictions based on two features (R&D Spend and Marketing Spend).\n",
    "- Plots a heatmap of the confusion matrix to visualize the model's performance in terms of true positives, true negatives, false positives, and false negatives.\n",
    "- Plots the Receiver Operating Characteristic (ROC) Curve. Provides a visual representation of the trade-off between sensitivity and specificity for the classifier.\n",
    "    - AUC (Area Under the Curve) summarizes the performance of the classifier across all possible classification thresholds."
   ]
  },
  {
   "cell_type": "code",
   "execution_count": null,
   "metadata": {},
   "outputs": [],
   "source": [
    "# Make predictions\n",
    "y_pred_proba = model.predict_proba(X_test)[:, 1]\n",
    "\n",
    "# Calculate ROC curve and AUC\n",
    "fpr, tpr, thresholds = roc_curve(y_test, y_pred_proba)\n",
    "roc_auc = roc_auc_score(y_test, y_pred_proba)\n",
    "\n",
    "# Plot ROC curve\n",
    "plt.figure(figsize=(8, 6))\n",
    "plt.plot(fpr, tpr, color='blue', lw=2, label=f'ROC Curve (AUC = {roc_auc:.2f})')\n",
    "plt.plot([0, 1], [0, 1], color='gray', linestyle='--')\n",
    "plt.xlim([0.0, 1.0])\n",
    "plt.ylim([0.0, 1.05])\n",
    "plt.xlabel('False Positive Rate')\n",
    "plt.ylabel('True Positive Rate')\n",
    "plt.title('Receiver Operating Characteristic (ROC) Curve')\n",
    "plt.legend(loc=\"lower right\")\n",
    "plt.show()\n",
    "\n",
    "# Scatter plot for binary classification predictions\n",
    "plt.figure(figsize=(8, 6))\n",
    "sns.scatterplot(x=X_test['R&D Spend'], y=X_test['Marketing Spend'], hue=model.predict(X_test), palette=\"Set1\")\n",
    "plt.title(\"Binary Classification (Profitable vs Non-Profitable)\")\n",
    "plt.xlabel(\"R&D Spend\")\n",
    "plt.ylabel(\"Marketing Spend\")\n",
    "plt.legend(title=\"Prediction\", loc=\"upper right\")\n",
    "plt.show()\n",
    "\n",
    "# Confusion matrix\n",
    "y_pred = model.predict(X_test)\n",
    "cm = confusion_matrix(y_test, y_pred)\n",
    "\n",
    "# Plot confusion matrix heatmap\n",
    "plt.figure(figsize=(8, 6))\n",
    "sns.heatmap(cm, annot=True, fmt=\"d\", cmap=\"Blues\", cbar=False)\n",
    "plt.title(\"Confusion Matrix\")\n",
    "plt.xlabel(\"Predicted\")\n",
    "plt.ylabel(\"Actual\")\n",
    "plt.show()"
   ]
  }
 ],
 "metadata": {
  "kernelspec": {
   "display_name": "Python 3",
   "language": "python",
   "name": "python3"
  },
  "language_info": {
   "codemirror_mode": {
    "name": "ipython",
    "version": 3
   },
   "file_extension": ".py",
   "mimetype": "text/x-python",
   "name": "python",
   "nbconvert_exporter": "python",
   "pygments_lexer": "ipython3",
   "version": "3.12.2"
  }
 },
 "nbformat": 4,
 "nbformat_minor": 2
}
