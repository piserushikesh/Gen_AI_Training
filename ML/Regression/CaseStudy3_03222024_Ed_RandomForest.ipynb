{
  "cells": [
    {
      "cell_type": "code",
      "execution_count": null,
      "metadata": {
        "colab": {
          "base_uri": "https://localhost:8080/"
        },
        "id": "hDDJh5eVr2_T",
        "outputId": "9552bb3d-4225-4b3e-891f-10e218875a84"
      },
      "outputs": [],
      "source": [
        "%pip install scikit-learn pandas numpy matplotlib scipy seaborn"
      ]
    },
    {
      "cell_type": "code",
      "execution_count": null,
      "metadata": {
        "id": "24ZE77f2rfKX"
      },
      "outputs": [],
      "source": [
        "# Import libraries\n",
        "import pandas as pd\n",
        "import numpy as np\n",
        "import matplotlib.pyplot as plt\n",
        "import seaborn as sns\n",
        "from scipy.stats import pearsonr\n",
        "from sklearn.model_selection import train_test_split, GridSearchCV\n",
        "from sklearn.preprocessing import LabelEncoder, StandardScaler, PolynomialFeatures\n",
        "from sklearn.ensemble import RandomForestRegressor\n",
        "from sklearn.metrics import mean_squared_error\n",
        "from sklearn.metrics import r2_score\n",
        "\n",
        "from sklearn.pipeline import Pipeline"
      ]
    },
    {
      "cell_type": "code",
      "execution_count": null,
      "metadata": {
        "id": "AACb0rOAsjMR"
      },
      "outputs": [],
      "source": [
        "# Assuming the dataset is named 'startup_data.csv'\n",
        "startup_data = pd.read_csv('../Datasets/50_Startups.csv')"
      ]
    },
    {
      "cell_type": "code",
      "execution_count": null,
      "metadata": {
        "id": "OorAkN55sxXx"
      },
      "outputs": [],
      "source": [
        "# Preprocess the data\n",
        "label_encoder = LabelEncoder()\n",
        "startup_data['State'] = label_encoder.fit_transform(startup_data['State'])\n",
        "\n",
        "X = startup_data.drop(columns=['Profit'])\n",
        "y = startup_data['Profit']\n",
        "\n",
        "X_train, X_test, y_train, y_test = train_test_split(X, y, test_size=0.2, random_state=42)\n",
        "\n",
        "scaler = StandardScaler()\n",
        "X_train_scaled = scaler.fit_transform(X_train)\n",
        "X_test_scaled = scaler.transform(X_test)\n"
      ]
    },
    {
      "cell_type": "code",
      "execution_count": null,
      "metadata": {},
      "outputs": [],
      "source": [
        "# Train RandomForestRegressor\n",
        "rf_regressor = RandomForestRegressor(n_estimators=100, random_state=42)\n",
        "rf_regressor.fit(X_train_scaled, y_train)\n",
        "\n",
        "# Make predictions using RandomForestRegressor\n",
        "y_pred_rf = rf_regressor.predict(X_test_scaled)\n",
        "mse_rf = mean_squared_error(y_test, y_pred_rf)\n",
        "print(\"Mean Squared Error (Random Forest):\", mse_rf)"
      ]
    },
    {
      "cell_type": "code",
      "execution_count": null,
      "metadata": {},
      "outputs": [],
      "source": [
        "# Calculate R^2 score\n",
        "# Evaluates how well the model explains the variance in the target variable\n",
        "r2_rf = r2_score(y_test, y_pred_rf)\n",
        "print(\"R^2 Score (Random Forest):\", r2_rf)\n",
        "\n",
        "# Calculate Pearson correlation coefficient\n",
        "# Measures the linear relationship between the predicted and actual values\n",
        "corr_coefficient, _ = pearsonr(y_test, y_pred_rf)\n",
        "print(\"Pearson Correlation Coefficient:\", corr_coefficient)"
      ]
    },
    {
      "cell_type": "markdown",
      "metadata": {},
      "source": [
        "It's unusual to have such a high Pearson correlation coefficient (close to 1) and a slightly lower R^2 score (but still high). This might indicate that while there's a strong linear relationship between the predicted and actual values, the model might not be capturing all the variance in the target variable as efficiently as it captures the linear relationship."
      ]
    },
    {
      "cell_type": "markdown",
      "metadata": {},
      "source": []
    },
    {
      "cell_type": "code",
      "execution_count": null,
      "metadata": {},
      "outputs": [],
      "source": [
        "# Let's try to improve the Random Forest regression model's ability to capture all the variance in the target variable.\n",
        "\n",
        "# The code implementation demonstrates a comprehensive approach to improving the Random Forest regression model's performance \n",
        "#   by incorporating feature engineering (polynomial features), hyperparameter tuning (GridSearchCV), and model evaluation. \n",
        "\n",
        "#   The pipeline ensures that all preprocessing steps and modeling steps are applied consistently during training and prediction.\n",
        "\n",
        "# Define a pipeline for preprocessing and modeling\n",
        "pipeline = Pipeline([\n",
        "    ('scaler', StandardScaler()),\n",
        "    ('poly', PolynomialFeatures()),  # Adding polynomial features\n",
        "    ('rf', RandomForestRegressor(random_state=42))\n",
        "])\n",
        "\n",
        "# Define hyperparameters for GridSearchCV\n",
        "param_grid = {\n",
        "    'poly__degree': [2, 3],  # Degree of polynomial features\n",
        "    'rf__n_estimators': [100, 200, 300],  # Number of trees in the forest\n",
        "    'rf__max_depth': [None, 5, 10]  # Maximum depth of the trees\n",
        "}\n",
        "\n",
        "# Perform grid search for hyperparameter tuning\n",
        "grid_search = GridSearchCV(pipeline, param_grid, cv=5, scoring='neg_mean_squared_error')\n",
        "grid_search.fit(X_train, y_train)\n",
        "\n",
        "# Get the best model from the grid search\n",
        "best_model = grid_search.best_estimator_\n",
        "\n",
        "# Make predictions using the best model\n",
        "y_pred_rf_improved = best_model.predict(X_test)"
      ]
    },
    {
      "cell_type": "code",
      "execution_count": null,
      "metadata": {},
      "outputs": [],
      "source": [
        "# Calculate R^2 score\n",
        "# Evaluates how well the model explains the variance in the target variable\n",
        "r2_rf = r2_score(y_test, y_pred_rf_improved)\n",
        "print(\"R^2 Score (Random Forest):\", r2_rf)\n",
        "\n",
        "# Calculate Pearson correlation coefficient\n",
        "# Measures the linear relationship between the predicted and actual values\n",
        "corr_coefficient, _ = pearsonr(y_test, y_pred_rf_improved)\n",
        "print(\"Pearson Correlation Coefficient:\", corr_coefficient)"
      ]
    },
    {
      "cell_type": "code",
      "execution_count": null,
      "metadata": {
        "colab": {
          "base_uri": "https://localhost:8080/",
          "height": 564
        },
        "id": "5--YlwOkzGI_",
        "outputId": "0caf39bc-ee78-43d7-c656-c514afb8177a"
      },
      "outputs": [],
      "source": [
        "# Plot actual vs. predicted profits\n",
        "plt.figure(figsize=(10, 6))\n",
        "plt.scatter(y_test, y_pred_rf, color='blue', alpha=0.5)\n",
        "plt.plot([min(y_test), max(y_test)], [min(y_test), max(y_test)], color='red')\n",
        "plt.xlabel('Actual Profit')\n",
        "plt.ylabel('Predicted Profit')\n",
        "plt.title('Actual vs. Predicted Profits (Random Forest)')\n",
        "plt.grid(True)\n",
        "plt.show()\n"
      ]
    },
    {
      "cell_type": "code",
      "execution_count": null,
      "metadata": {
        "colab": {
          "base_uri": "https://localhost:8080/",
          "height": 564
        },
        "id": "KodffhPczKR4",
        "outputId": "162b941f-3070-4d53-952d-1b377cb44c04"
      },
      "outputs": [],
      "source": [
        "# Plot histogram of actual and predicted profits\n",
        "plt.figure(figsize=(10, 6))\n",
        "plt.hist(y_test, bins=20, color='blue', alpha=0.5, label='Actual Profit')\n",
        "plt.hist(y_pred_rf, bins=20, color='green', alpha=0.5, label='Predicted Profit')\n",
        "plt.xlabel('Profit')\n",
        "plt.ylabel('Frequency')\n",
        "plt.title('Histogram of Actual and Predicted Profits')\n",
        "plt.legend()\n",
        "plt.grid(True)\n",
        "plt.show()"
      ]
    },
    {
      "cell_type": "code",
      "execution_count": null,
      "metadata": {},
      "outputs": [],
      "source": [
        "# Calculate the correlation matrix\n",
        "corr_matrix = startup_data.corr()\n",
        "\n",
        "# Plot the heatmap\n",
        "plt.figure(figsize=(10, 8))\n",
        "sns.heatmap(corr_matrix, annot=True, cmap='coolwarm', fmt=\".2f\", linewidths=0.5)\n",
        "plt.title('Correlation Heatmap')\n",
        "plt.show()"
      ]
    }
  ],
  "metadata": {
    "colab": {
      "provenance": []
    },
    "kernelspec": {
      "display_name": "Python 3",
      "name": "python3"
    },
    "language_info": {
      "codemirror_mode": {
        "name": "ipython",
        "version": 3
      },
      "file_extension": ".py",
      "mimetype": "text/x-python",
      "name": "python",
      "nbconvert_exporter": "python",
      "pygments_lexer": "ipython3",
      "version": "3.12.2"
    }
  },
  "nbformat": 4,
  "nbformat_minor": 0
}
