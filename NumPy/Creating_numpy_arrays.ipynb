{
  "nbformat": 4,
  "nbformat_minor": 0,
  "metadata": {
    "colab": {
      "provenance": [],
      "authorship_tag": "ABX9TyNLuGTHQlLOGTg4Aro+mUzu",
      "include_colab_link": true
    },
    "kernelspec": {
      "name": "python3",
      "display_name": "Python 3"
    },
    "language_info": {
      "name": "python"
    }
  },
  "cells": [
    {
      "cell_type": "markdown",
      "metadata": {
        "id": "view-in-github",
        "colab_type": "text"
      },
      "source": [
        "<a href=\"https://colab.research.google.com/github/piserushikesh/Gen_AI_Training/blob/main/Creating_numpy_arrays.ipynb\" target=\"_parent\"><img src=\"https://colab.research.google.com/assets/colab-badge.svg\" alt=\"Open In Colab\"/></a>"
      ]
    },
    {
      "cell_type": "markdown",
      "source": [
        "Zeros"
      ],
      "metadata": {
        "id": "LWoiI0Nsy6-I"
      }
    },
    {
      "cell_type": "code",
      "execution_count": 1,
      "metadata": {
        "colab": {
          "base_uri": "https://localhost:8080/"
        },
        "id": "yzfxYILDyQWU",
        "outputId": "c3d8fd19-d1cc-41f2-9766-d0d88d30dafe"
      },
      "outputs": [
        {
          "output_type": "stream",
          "name": "stdout",
          "text": [
            "[0. 0. 0. 0.]\n",
            "\n",
            "[[0. 0. 0. 0.]\n",
            " [0. 0. 0. 0.]\n",
            " [0. 0. 0. 0.]]\n"
          ]
        }
      ],
      "source": [
        "import numpy as np\n",
        "\n",
        "ar_zeros = np.zeros(4)\n",
        "ar_zeros1 = np.zeros((3,4))\n",
        "\n",
        "\n",
        "print(ar_zeros)\n",
        "print()\n",
        "print(ar_zeros1)"
      ]
    },
    {
      "cell_type": "markdown",
      "source": [
        "Once"
      ],
      "metadata": {
        "id": "qYOz5Vv4zzIV"
      }
    },
    {
      "cell_type": "code",
      "source": [
        "ar_once = np.ones(4)\n",
        "\n",
        "print(ar_once)"
      ],
      "metadata": {
        "colab": {
          "base_uri": "https://localhost:8080/"
        },
        "id": "OXlnLzscz0ks",
        "outputId": "4e90c139-d951-48c5-fb13-d41485ad1d59"
      },
      "execution_count": 3,
      "outputs": [
        {
          "output_type": "stream",
          "name": "stdout",
          "text": [
            "[1. 1. 1. 1.]\n"
          ]
        }
      ]
    },
    {
      "cell_type": "markdown",
      "source": [
        "Range"
      ],
      "metadata": {
        "id": "TyBTV3w31uMi"
      }
    },
    {
      "cell_type": "code",
      "source": [
        "ar_rn = np.arange(4)\n",
        "print(ar_rn)"
      ],
      "metadata": {
        "colab": {
          "base_uri": "https://localhost:8080/"
        },
        "id": "pRwdC2Zx1vPj",
        "outputId": "2a951b98-6dbe-43be-843c-a245ddbe5376"
      },
      "execution_count": 4,
      "outputs": [
        {
          "output_type": "stream",
          "name": "stdout",
          "text": [
            "[0 1 2 3]\n"
          ]
        }
      ]
    },
    {
      "cell_type": "markdown",
      "source": [
        "Diagonal"
      ],
      "metadata": {
        "id": "xg-KWJnV16-Y"
      }
    },
    {
      "cell_type": "code",
      "source": [
        "ar_dia = np.eye(3)\n",
        "print(ar_dia)"
      ],
      "metadata": {
        "colab": {
          "base_uri": "https://localhost:8080/"
        },
        "id": "pQl2uNYc18xC",
        "outputId": "5eefa0e6-1d1e-4488-83ed-7c96bc3f1e7e"
      },
      "execution_count": 5,
      "outputs": [
        {
          "output_type": "stream",
          "name": "stdout",
          "text": [
            "[[1. 0. 0.]\n",
            " [0. 1. 0.]\n",
            " [0. 0. 1.]]\n"
          ]
        }
      ]
    },
    {
      "cell_type": "markdown",
      "source": [
        "linSpace"
      ],
      "metadata": {
        "id": "EvBd9M7Y3K7h"
      }
    },
    {
      "cell_type": "code",
      "source": [
        "ar_lin = np.linspace(0,20,num=5)\n",
        "print(ar_lin)"
      ],
      "metadata": {
        "colab": {
          "base_uri": "https://localhost:8080/"
        },
        "id": "UGP3o1Cw3NxW",
        "outputId": "02764116-f24f-4cf6-e631-a3e79f6714b9"
      },
      "execution_count": 6,
      "outputs": [
        {
          "output_type": "stream",
          "name": "stdout",
          "text": [
            "[ 0.  5. 10. 15. 20.]\n"
          ]
        }
      ]
    },
    {
      "cell_type": "markdown",
      "source": [
        "Create arrays with random numbers ----> rand() randn() ranf() randint()"
      ],
      "metadata": {
        "id": "mb32JFqJ3ljX"
      }
    },
    {
      "cell_type": "markdown",
      "source": [
        "rand()  values between 0 to 1 only"
      ],
      "metadata": {
        "id": "wwdcq9ox4bxY"
      }
    },
    {
      "cell_type": "code",
      "source": [
        "var = np.random.rand(4)\n",
        "print(var)"
      ],
      "metadata": {
        "colab": {
          "base_uri": "https://localhost:8080/"
        },
        "id": "PtV569ii3wr6",
        "outputId": "9f34da4c-4858-455a-a97e-95a850f9b96a"
      },
      "execution_count": 8,
      "outputs": [
        {
          "output_type": "stream",
          "name": "stdout",
          "text": [
            "[0.15197298 0.00949707 0.97264536 0.18403411]\n"
          ]
        }
      ]
    },
    {
      "cell_type": "code",
      "source": [
        "var1 = np.random.rand(2,5)\n",
        "print(var1)"
      ],
      "metadata": {
        "colab": {
          "base_uri": "https://localhost:8080/"
        },
        "id": "z4Mx26Sd4UoE",
        "outputId": "7ccc07d5-e24a-4960-f7d5-1b29272023ac"
      },
      "execution_count": 9,
      "outputs": [
        {
          "output_type": "stream",
          "name": "stdout",
          "text": [
            "[[0.43847417 0.33817964 0.2822436  0.65423481 0.32224469]\n",
            " [0.52584278 0.45290997 0.17763119 0.71944251 0.12703079]]\n"
          ]
        }
      ]
    },
    {
      "cell_type": "markdown",
      "source": [
        "randn() return value 0 to 1 but it may be positive or negative"
      ],
      "metadata": {
        "id": "XazSHbpI4vb4"
      }
    },
    {
      "cell_type": "code",
      "source": [
        "var2 = np.random.randn(2,5)\n",
        "print(var2)"
      ],
      "metadata": {
        "colab": {
          "base_uri": "https://localhost:8080/"
        },
        "id": "Yo7tTxWq4i_0",
        "outputId": "3e76c9de-8887-42c7-e815-9074c15dc9dd"
      },
      "execution_count": 10,
      "outputs": [
        {
          "output_type": "stream",
          "name": "stdout",
          "text": [
            "[[ 0.28882685  0.21470821 -0.18034696 -0.57672865 -0.46784228]\n",
            " [-0.51427645 -0.19947336 -1.34121759  0.38606369  0.56875753]]\n"
          ]
        }
      ]
    },
    {
      "cell_type": "code",
      "source": [
        "var3 = np.random.ranf(4)\n",
        "print(var3)"
      ],
      "metadata": {
        "colab": {
          "base_uri": "https://localhost:8080/"
        },
        "id": "bLymppF05rqS",
        "outputId": "4553891b-b882-44e7-f4ee-16c18453e8af"
      },
      "execution_count": 11,
      "outputs": [
        {
          "output_type": "stream",
          "name": "stdout",
          "text": [
            "[0.57253159 0.23012117 0.35216398 0.79476716]\n"
          ]
        }
      ]
    },
    {
      "cell_type": "code",
      "source": [
        "var4 = np.random.randint(5,25,6)\n",
        "print(var4)"
      ],
      "metadata": {
        "colab": {
          "base_uri": "https://localhost:8080/"
        },
        "id": "Die8KwkZ510V",
        "outputId": "96bf9ba2-9b78-4a47-bd79-a26a82c133ec"
      },
      "execution_count": 12,
      "outputs": [
        {
          "output_type": "stream",
          "name": "stdout",
          "text": [
            "[ 8  6  6 20 12 22]\n"
          ]
        }
      ]
    }
  ]
}