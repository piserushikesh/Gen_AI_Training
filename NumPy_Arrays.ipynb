{
  "nbformat": 4,
  "nbformat_minor": 0,
  "metadata": {
    "colab": {
      "provenance": [],
      "authorship_tag": "ABX9TyM1iIBzHfICdfnM2RptoHoS",
      "include_colab_link": true
    },
    "kernelspec": {
      "name": "python3",
      "display_name": "Python 3"
    },
    "language_info": {
      "name": "python"
    }
  },
  "cells": [
    {
      "cell_type": "markdown",
      "metadata": {
        "id": "view-in-github",
        "colab_type": "text"
      },
      "source": [
        "<a href=\"https://colab.research.google.com/github/piserushikesh/Gen_AI_Training/blob/main/NumPy_Arrays.ipynb\" target=\"_parent\"><img src=\"https://colab.research.google.com/assets/colab-badge.svg\" alt=\"Open In Colab\"/></a>"
      ]
    },
    {
      "cell_type": "markdown",
      "source": [
        "Array"
      ],
      "metadata": {
        "id": "MagF4bgCi5WD"
      }
    },
    {
      "cell_type": "code",
      "source": [
        "import numpy as np\n",
        "\n",
        "x=[1,2,3,4]\n",
        "\n",
        "y = np.array([1,2,3,4,5])\n",
        "\n",
        "print(y)\n",
        "print(type(y))\n",
        "print(y.ndim)"
      ],
      "metadata": {
        "colab": {
          "base_uri": "https://localhost:8080/"
        },
        "id": "FlFA__qTi8wV",
        "outputId": "0d687dbc-9e5d-48b3-e4f0-d4de751b39b9"
      },
      "execution_count": 3,
      "outputs": [
        {
          "output_type": "stream",
          "name": "stdout",
          "text": [
            "[1 2 3 4 5]\n",
            "<class 'numpy.ndarray'>\n",
            "1\n"
          ]
        }
      ]
    },
    {
      "cell_type": "code",
      "source": [
        "l = []\n",
        "\n",
        "for i in range(1,5):\n",
        "  int_1 = int(input(\"enter : \"))\n",
        "  l.append(int_1)\n",
        "\n",
        "print(np.array(l))"
      ],
      "metadata": {
        "colab": {
          "base_uri": "https://localhost:8080/"
        },
        "id": "DkKsNMJElvfG",
        "outputId": "a0a6960d-1e01-477a-850d-55339f46414e"
      },
      "execution_count": 2,
      "outputs": [
        {
          "output_type": "stream",
          "name": "stdout",
          "text": [
            "enter : 23\n",
            "enter : 32\n",
            "enter : 45\n",
            "enter : 11\n",
            "[23 32 45 11]\n"
          ]
        }
      ]
    },
    {
      "cell_type": "code",
      "source": [
        "ar2 = np.array([[1,2,3,4],[5,6,7,8]])\n",
        "print(ar2)\n",
        "print(ar2.ndim)"
      ],
      "metadata": {
        "colab": {
          "base_uri": "https://localhost:8080/"
        },
        "id": "JI4EUAIHx5qh",
        "outputId": "b8e6f005-9f20-4372-dbbc-8edf22fefd6a"
      },
      "execution_count": 4,
      "outputs": [
        {
          "output_type": "stream",
          "name": "stdout",
          "text": [
            "[[1 2 3 4]\n",
            " [5 6 7 8]]\n",
            "2\n"
          ]
        }
      ]
    }
  ]
}